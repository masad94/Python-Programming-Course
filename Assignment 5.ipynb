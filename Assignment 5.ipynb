{
 "cells": [
  {
   "cell_type": "code",
   "execution_count": 11,
   "metadata": {},
   "outputs": [
    {
     "data": {
      "text/plain": [
       "120"
      ]
     },
     "execution_count": 11,
     "metadata": {},
     "output_type": "execute_result"
    }
   ],
   "source": [
    "def fact(num):\n",
    "    if num==1:\n",
    "        return 1\n",
    "    else:\n",
    "        answer=num *(fact(num-1))\n",
    "        return answer\n",
    "fact(5)"
   ]
  },
  {
   "cell_type": "code",
   "execution_count": 15,
   "metadata": {},
   "outputs": [
    {
     "name": "stdout",
     "output_type": "stream",
     "text": [
      "Lower Characters: 2\n",
      "Upper Characters: 3\n"
     ]
    }
   ],
   "source": [
    "def checkStrings(string):\n",
    "    countU=0\n",
    "    countL=0\n",
    "    for s in string:\n",
    "        if s.isupper():\n",
    "            countU+=1\n",
    "        elif s.islower():\n",
    "            countL+=1\n",
    "    print(\"Lower Characters: \"+str(countL)+\"\\nUpper Characters: \"+str(countU))\n",
    "checkStrings(\"HeLLo\")"
   ]
  },
  {
   "cell_type": "code",
   "execution_count": 17,
   "metadata": {},
   "outputs": [
    {
     "data": {
      "text/plain": [
       "[6, 2, 4, 0, 22]"
      ]
     },
     "execution_count": 17,
     "metadata": {},
     "output_type": "execute_result"
    }
   ],
   "source": [
    "def checkEven(items):\n",
    "    evenItems=[]\n",
    "    for i in items:\n",
    "        if i%2==0:\n",
    "            evenItems.append(i)\n",
    "    return evenItems\n",
    "checkEven([3,6,2,4,5,9,0,22])"
   ]
  },
  {
   "cell_type": "code",
   "execution_count": 24,
   "metadata": {},
   "outputs": [
    {
     "name": "stdout",
     "output_type": "stream",
     "text": [
      "Given string 'madam' is palindrome.'\n",
      "Given string 'hi' is not palindrome.'\n",
      "Given string 'anna' is palindrome.'\n"
     ]
    }
   ],
   "source": [
    "def ispalindrome(string):\n",
    "    string=string.lower()\n",
    "    re=string[::-1]\n",
    "    if string==re:\n",
    "        print(\"Given string \"+\"'\"+string +\"' is palindrome.'\")\n",
    "    else:\n",
    "        print(\"Given string \"+\"'\"+string +\"' is not palindrome.'\")\n",
    "        \n",
    "ispalindrome(\"madam\")\n",
    "ispalindrome(\"hi\")\n",
    "ispalindrome(\"Anna\")"
   ]
  },
  {
   "cell_type": "code",
   "execution_count": 33,
   "metadata": {},
   "outputs": [
    {
     "name": "stdout",
     "output_type": "stream",
     "text": [
      "It is a prime number.\n",
      "It is a prime number.\n",
      "It is a prime number.\n",
      "It is not a prime number.\n"
     ]
    }
   ],
   "source": [
    "def isprime(num):\n",
    "    if num>1:\n",
    "        for i in range(2,num):\n",
    "            if num%2==0:\n",
    "                print(\"It is not a prime number.\")\n",
    "                break\n",
    "        else:\n",
    "            print(\"It is a prime number.\")\n",
    "    else:\n",
    "        print(\"It is not a prime number.\")\n",
    "\n",
    "isprime(5)\n",
    "isprime(2)\n",
    "isprime(11)\n",
    "isprime(32)"
   ]
  },
  {
   "cell_type": "code",
   "execution_count": 34,
   "metadata": {},
   "outputs": [
    {
     "name": "stdout",
     "output_type": "stream",
     "text": [
      "Customer Name: asad\n",
      "Items:\n",
      "\tonions\n",
      "\tshampo\n",
      "\tbasket\n",
      "\ttable\n",
      "\ttv\n"
     ]
    }
   ],
   "source": [
    "def shoplist(cus_name,*items):\n",
    "    print(\"Customer Name: \"+cus_name)\n",
    "    print(\"Items:\")\n",
    "    for i in items:\n",
    "        print(\"\\t\"+i)\n",
    "\n",
    "shoplist(\"asad\",\"onions\",\"shampo\",\"basket\",\"table\",\"tv\")"
   ]
  },
  {
   "cell_type": "code",
   "execution_count": null,
   "metadata": {},
   "outputs": [],
   "source": []
  }
 ],
 "metadata": {
  "kernelspec": {
   "display_name": "Python 3",
   "language": "python",
   "name": "python3"
  },
  "language_info": {
   "codemirror_mode": {
    "name": "ipython",
    "version": 3
   },
   "file_extension": ".py",
   "mimetype": "text/x-python",
   "name": "python",
   "nbconvert_exporter": "python",
   "pygments_lexer": "ipython3",
   "version": "3.7.4"
  }
 },
 "nbformat": 4,
 "nbformat_minor": 2
}
