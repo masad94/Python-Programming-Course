{
 "cells": [
  {
   "cell_type": "code",
   "execution_count": 3,
   "metadata": {},
   "outputs": [
    {
     "name": "stdin",
     "output_type": "stream",
     "text": [
      "Enter First Value:  2\n",
      "Enter Operator:  p\n",
      "Enter Second Value:  3\n"
     ]
    },
    {
     "name": "stdout",
     "output_type": "stream",
     "text": [
      "8\n"
     ]
    }
   ],
   "source": [
    "val1=int(input(\"Enter First Value: \"))\n",
    "op=input(\"Enter Operator: \")\n",
    "val2=int(input(\"Enter Second Value: \"))\n",
    "if op=='+':\n",
    "    val=val1+val2\n",
    "    print(val)\n",
    "elif op=='-':\n",
    "    val=val1-val2\n",
    "    print(val)\n",
    "elif op=='*':\n",
    "    val=val1*val2\n",
    "    print(val)\n",
    "elif op=='/':\n",
    "    val=val1/val2\n",
    "    print(val)\n",
    "elif op=='p':\n",
    "    val=val1**val2\n",
    "    print(val)\n",
    "else:\n",
    "    print(\"Invalid Operator\")"
   ]
  },
  {
   "cell_type": "code",
   "execution_count": 29,
   "metadata": {},
   "outputs": [
    {
     "name": "stdout",
     "output_type": "stream",
     "text": [
      "There is a numeric value in the list\n"
     ]
    }
   ],
   "source": [
    "a=[\"asad\",4,7,\"2\",\"Junaid\"]\n",
    "for x in a:\n",
    "    if type(x)==int:\n",
    "        print(\"There is a numeric value in the list\")\n",
    "        break"
   ]
  },
  {
   "cell_type": "code",
   "execution_count": 30,
   "metadata": {},
   "outputs": [
    {
     "name": "stdout",
     "output_type": "stream",
     "text": [
      "{'firstname': 'Asad', 'lastname': 'Khan'}\n",
      "{'firstname': 'Asad', 'lastname': 'Khan', 'Education': 'MSCS'}\n"
     ]
    }
   ],
   "source": [
    "dic={\"firstname\":\"Asad\",\n",
    "    \"lastname\":\"Khan\"\n",
    "    }\n",
    "print(dic)\n",
    "dic[\"Education\"]=\"MSCS\"\n",
    "print(dic)"
   ]
  },
  {
   "cell_type": "code",
   "execution_count": 31,
   "metadata": {},
   "outputs": [
    {
     "name": "stdout",
     "output_type": "stream",
     "text": [
      "83\n"
     ]
    }
   ],
   "source": [
    "dic={\"a\":21,\"b\":32,\"c\":30,\"d\":\"Hello\"}\n",
    "sum=0\n",
    "for i in dic.values():\n",
    "    if type(i)==int:\n",
    "        sum=sum+i\n",
    "print(sum)"
   ]
  },
  {
   "cell_type": "code",
   "execution_count": 15,
   "metadata": {},
   "outputs": [
    {
     "data": {
      "text/plain": [
       "{1, 4, 5}"
      ]
     },
     "execution_count": 15,
     "metadata": {},
     "output_type": "execute_result"
    }
   ],
   "source": [
    "l = [1,2,3,4,4,5,5,6,1]\n",
    "set([x for x in l if l.count(x) > 1])"
   ]
  },
  {
   "cell_type": "code",
   "execution_count": 17,
   "metadata": {},
   "outputs": [
    {
     "name": "stdout",
     "output_type": "stream",
     "text": [
      "Key is present in dictionary\n"
     ]
    }
   ],
   "source": [
    "dic={\"firstname\":\"Asad\",\n",
    "    \"lastname\":\"Khan\",\n",
    "     \"education\":\"MSCS\"\n",
    "    }\n",
    "if \"education\" in dic:\n",
    "    print(\"Key is present in dictionary\")\n",
    "else:\n",
    "    print(\"Key is not present in dictionary\")"
   ]
  },
  {
   "cell_type": "code",
   "execution_count": null,
   "metadata": {},
   "outputs": [],
   "source": []
  }
 ],
 "metadata": {
  "kernelspec": {
   "display_name": "Python 3",
   "language": "python",
   "name": "python3"
  },
  "language_info": {
   "codemirror_mode": {
    "name": "ipython",
    "version": 3
   },
   "file_extension": ".py",
   "mimetype": "text/x-python",
   "name": "python",
   "nbconvert_exporter": "python",
   "pygments_lexer": "ipython3",
   "version": "3.7.4"
  }
 },
 "nbformat": 4,
 "nbformat_minor": 4
}
