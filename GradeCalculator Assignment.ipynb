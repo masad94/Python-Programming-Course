{
 "cells": [
  {
   "cell_type": "code",
   "execution_count": 11,
   "metadata": {},
   "outputs": [
    {
     "name": "stdin",
     "output_type": "stream",
     "text": [
      "Enter your percentage %: 32.5\n"
     ]
    },
    {
     "name": "stdout",
     "output_type": "stream",
     "text": [
      "You got F\n"
     ]
    }
   ],
   "source": [
    "perc=float(input(\"Enter your percentage %:\"))\n",
    "if perc>=80 and perc<=100:\n",
    "    print(\"You got A+\")\n",
    "elif perc>=70 and perc<80:\n",
    "    print(\"You got A\")\n",
    "elif perc>=60 and perc<70:\n",
    "    print(\"You got B\")\n",
    "elif perc>=50 and perc<60:\n",
    "    print(\"You got C\")\n",
    "elif perc>=40 and perc<50:\n",
    "    print(\"You got D\")\n",
    "elif perc>=33 and perc<40:\n",
    "    print(\"You got E\")\n",
    "elif perc>=0 and perc<33:\n",
    "    print(\"You got F\")\n",
    "else:\n",
    "    print(\"Incorrect Percentge %\")"
   ]
  },
  {
   "cell_type": "code",
   "execution_count": null,
   "metadata": {},
   "outputs": [],
   "source": []
  }
 ],
 "metadata": {
  "kernelspec": {
   "display_name": "Python 3",
   "language": "python",
   "name": "python3"
  },
  "language_info": {
   "codemirror_mode": {
    "name": "ipython",
    "version": 3
   },
   "file_extension": ".py",
   "mimetype": "text/x-python",
   "name": "python",
   "nbconvert_exporter": "python",
   "pygments_lexer": "ipython3",
   "version": "3.7.4"
  }
 },
 "nbformat": 4,
 "nbformat_minor": 4
}
