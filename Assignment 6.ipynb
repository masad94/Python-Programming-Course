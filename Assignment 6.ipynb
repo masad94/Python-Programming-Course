{
 "cells": [
  {
   "cell_type": "markdown",
   "metadata": {},
   "source": [
    "Object-oriented programming (OOP) is a programming language model in which programs are organized around data, or objects, rather than functions and logic. An object can be defined as a data field that has unique attributes and behavior."
   ]
  },
  {
   "cell_type": "markdown",
   "metadata": {},
   "source": [
    "Benefits of OOPs are code re-usability, data redundancy, security, productivity, flexibility, scalibility, etc."
   ]
  },
  {
   "cell_type": "markdown",
   "metadata": {},
   "source": [
    "A function is a piece of code that is called by name. It can be passed data to operate on (i.e. the parameters) and can optionally return data (the return value). All data that is passed to a function is explicitly passed.\n",
    "\n",
    "A method is a piece of code that is called by a name that is associated with an object. In most respects it is identical to a function except for two key differences:\n",
    "1- A method is implicitly passed the object on which it was called.\n",
    "2- A method is able to operate on data that is contained within the class (remembering that an object is an instance of a class - the class is the definition, the object is an instance of that data)."
   ]
  },
  {
   "cell_type": "markdown",
   "metadata": {},
   "source": [
    "A class is a blueprint for creating objects, providing initial values for state (attributes), and implementations of behavior (methods).\n",
    "\n",
    "Object refers to a particular instance of a class, where the object can be a combination of variables, functions, and data structures.\n",
    "\n",
    "Attributes are data stored inside a class or instance and represent the state or quality of the class or instance.\n",
    "\n",
    "Behavior determines how an instance of that class operates. Behavior is the only way objects can do anything to themselves or have anything done to them."
   ]
  },
  {
   "cell_type": "code",
   "execution_count": 5,
   "metadata": {},
   "outputs": [
    {
     "name": "stdout",
     "output_type": "stream",
     "text": [
      "Toyota Corolla started!\n",
      "Toyota Corolla moving!\n",
      "Toyota Corolla stopped!\n"
     ]
    }
   ],
   "source": [
    "class Car():\n",
    "    def __init__(self,name,model,color):\n",
    "        self.name=name\n",
    "        self.model=model\n",
    "        self.color=color\n",
    "    def start(self):\n",
    "        print(self.name+\" \"+self.model+\" started!\")\n",
    "    def stop(self):\n",
    "        print(self.name+\" \"+self.model+\" stopped!\")\n",
    "    def move(self):\n",
    "        print(self.name+\" \"+self.model+\" moving!\")\n",
    "        \n",
    "\n",
    "car1=Car(\"Toyota\",\"Corolla\",\"Black\");\n",
    "car2=Car(\"Toyota\",\"Vitz\",\"Red\")\n",
    "car3=Car(\"Honda\",\"Vezel\",\"Black\")\n",
    "car4=Car(\"Daihatsu\",\"Mira\",\"White\")\n",
    "car5=Car(\"Suzuki\",\"Cultus\",\"Grey\")\n",
    "car1.start()\n",
    "car1.move()\n",
    "car1.stop()"
   ]
  },
  {
   "cell_type": "code",
   "execution_count": null,
   "metadata": {},
   "outputs": [],
   "source": []
  }
 ],
 "metadata": {
  "kernelspec": {
   "display_name": "Python 3",
   "language": "python",
   "name": "python3"
  },
  "language_info": {
   "codemirror_mode": {
    "name": "ipython",
    "version": 3
   },
   "file_extension": ".py",
   "mimetype": "text/x-python",
   "name": "python",
   "nbconvert_exporter": "python",
   "pygments_lexer": "ipython3",
   "version": "3.7.4"
  }
 },
 "nbformat": 4,
 "nbformat_minor": 2
}
