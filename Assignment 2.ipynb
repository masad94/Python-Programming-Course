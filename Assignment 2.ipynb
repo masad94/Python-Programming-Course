{
 "cells": [
  {
   "cell_type": "code",
   "execution_count": 2,
   "metadata": {},
   "outputs": [
    {
     "name": "stdin",
     "output_type": "stream",
     "text": [
      "Enter your maths marks: 54\n",
      "Enter your physics marks: 75\n",
      "Enter your english marks: 43\n",
      "Enter your chemistry marks: 66\n",
      "Enter your bio marks: 75\n"
     ]
    },
    {
     "name": "stdout",
     "output_type": "stream",
     "text": [
      "You got B\n"
     ]
    }
   ],
   "source": [
    "math=int(input(\"Enter your maths marks:\"))\n",
    "phys=int(input(\"Enter your physics marks:\"))\n",
    "eng=int(input(\"Enter your english marks:\"))\n",
    "che=int(input(\"Enter your chemistry marks:\"))\n",
    "bio=int(input(\"Enter your bio marks:\"))\n",
    "if math<33 or eng<33 or phys<33 or che<33 or bio<33:\n",
    "    print(\"You are fail!\")\n",
    "elif math>100 or eng>100 or phys>100 or che>100 or bio>100:\n",
    "    print(\"Invalid marks\")\n",
    "else:\n",
    "    total=math+phys+eng+che+bio\n",
    "    perc=(total/500)*100\n",
    "    if perc>=80 and perc<=100:\n",
    "        print(\"You got A+\")\n",
    "    elif perc>=70 and perc<80:\n",
    "        print(\"You got A\")\n",
    "    elif perc>=60 and perc<70:\n",
    "        print(\"You got B\") \n",
    "    elif perc>=50 and perc<60:\n",
    "        print(\"You got C\")\n",
    "    elif perc>=40 and perc<50:\n",
    "        print(\"You got D\")\n",
    "    elif perc>=33 and perc<40:\n",
    "        print(\"You got E\")\n",
    "    elif perc>=0 and perc<33:\n",
    "        print(\"You got F\")"
   ]
  },
  {
   "cell_type": "code",
   "execution_count": 6,
   "metadata": {},
   "outputs": [
    {
     "name": "stdin",
     "output_type": "stream",
     "text": [
      "Enter number to check if its even or odd: 8\n"
     ]
    },
    {
     "name": "stdout",
     "output_type": "stream",
     "text": [
      "Its an even number\n"
     ]
    }
   ],
   "source": [
    "num=int(input(\"Enter number to check if its even or odd:\"))\n",
    "check=num%2\n",
    "if check==0:\n",
    "    print(\"Its an even number\")\n",
    "else:\n",
    "    print(\"Its an odd number\")"
   ]
  },
  {
   "cell_type": "code",
   "execution_count": 11,
   "metadata": {},
   "outputs": [
    {
     "name": "stdout",
     "output_type": "stream",
     "text": [
      "Lenght of the list is 5\n"
     ]
    }
   ],
   "source": [
    "a=[23,5,6.5,8,\"hello\"]\n",
    "print(\"Lenght of the list is\",len(a))"
   ]
  },
  {
   "cell_type": "code",
   "execution_count": 14,
   "metadata": {},
   "outputs": [
    {
     "name": "stdout",
     "output_type": "stream",
     "text": [
      "27\n"
     ]
    }
   ],
   "source": [
    "a=[3,4,5,7,8]\n",
    "print (sum(a))"
   ]
  },
  {
   "cell_type": "code",
   "execution_count": 17,
   "metadata": {},
   "outputs": [
    {
     "name": "stdout",
     "output_type": "stream",
     "text": [
      "12\n"
     ]
    }
   ],
   "source": [
    "a=[3,6,4,7,12,2]\n",
    "print(max(a))"
   ]
  },
  {
   "cell_type": "code",
   "execution_count": 19,
   "metadata": {},
   "outputs": [
    {
     "name": "stdout",
     "output_type": "stream",
     "text": [
      "[1, 1, 2, 3]\n"
     ]
    }
   ],
   "source": [
    "a=[1,1,2,3,5,8,13,21,34,55,89]\n",
    "lessThanFive = [i for i in a if i < 5]\n",
    "print(lessThanFive)"
   ]
  },
  {
   "cell_type": "code",
   "execution_count": null,
   "metadata": {},
   "outputs": [],
   "source": []
  }
 ],
 "metadata": {
  "kernelspec": {
   "display_name": "Python 3",
   "language": "python",
   "name": "python3"
  },
  "language_info": {
   "codemirror_mode": {
    "name": "ipython",
    "version": 3
   },
   "file_extension": ".py",
   "mimetype": "text/x-python",
   "name": "python",
   "nbconvert_exporter": "python",
   "pygments_lexer": "ipython3",
   "version": "3.7.4"
  }
 },
 "nbformat": 4,
 "nbformat_minor": 4
}
