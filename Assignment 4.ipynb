{
 "cells": [
  {
   "cell_type": "code",
   "execution_count": 5,
   "metadata": {},
   "outputs": [
    {
     "name": "stdout",
     "output_type": "stream",
     "text": [
      "Full Name : Muhammad Asad Khan\n",
      "Age : 27\n",
      "City : Karachi\n",
      "Qualification : BSCS\n",
      "Qualification : MSCS\n"
     ]
    }
   ],
   "source": [
    "user={\n",
    "    \"first_name\": \"Muhammad Asad\",\n",
    "    \"last_name\" : \"Khan\",\n",
    "    \"age\":27,\n",
    "    \"city\":\"Karachi\",\n",
    "}\n",
    "print(\"Full Name : \" + user[\"first_name\"]+\" \"+user[\"last_name\"] +\"\\nAge : \"+str(user[\"age\"]) +\"\\nCity : \"+user[\"city\"])\n",
    "user[\"qualification\"]=\"BSCS\"\n",
    "print(\"Qualification : \" +user[\"qualification\"])\n",
    "user[\"qualification\"]=\"MSCS\"\n",
    "print(\"Qualification : \"+user[\"qualification\"])\n",
    "del(user[\"qualification\"])"
   ]
  },
  {
   "cell_type": "code",
   "execution_count": 16,
   "metadata": {},
   "outputs": [
    {
     "name": "stdout",
     "output_type": "stream",
     "text": [
      "City : Karachi\n",
      "\tCountry : Pakistan\n",
      "\tPopulation : 14.91 million\n",
      "\tFact : City of Lights\n",
      "City : Beijing\n",
      "\tCountry : China\n",
      "\tPopulation : 21.54 million\n",
      "\tFact : China's 2nd Largest City\n",
      "City : Paris\n",
      "\tCountry : France\n",
      "\tPopulation : 2.141 million\n",
      "\tFact : City of Love and Romance\n"
     ]
    }
   ],
   "source": [
    "cities={\n",
    "    \"Karachi\":{\n",
    "        \"country\": \"Pakistan\",\n",
    "        \"population\": \"14.91 million\",\n",
    "        \"fact\": \"City of Lights\",\n",
    "    },\n",
    "    \"Beijing\":{\n",
    "        \"country\": \"China\",\n",
    "        \"population\": \"21.54 million\",\n",
    "        \"fact\": \"China's 2nd Largest City\",\n",
    "    },\n",
    "    \"Paris\":{\n",
    "        \"country\": \"France\",\n",
    "        \"population\": \"2.141 million\",\n",
    "        \"fact\":\"City of Love and Romance\",\n",
    "    }\n",
    "}\n",
    "for city in cities:\n",
    "    print(\"City : \"+city +\"\\n\\tCountry : \"+cities[city][\"country\"]+\"\\n\\tPopulation : \"+cities[city][\"population\"]+\"\\n\\tFact : \"+cities[city][\"fact\"])"
   ]
  },
  {
   "cell_type": "code",
   "execution_count": 23,
   "metadata": {},
   "outputs": [
    {
     "name": "stdout",
     "output_type": "stream",
     "text": [
      "How many tickets? 3\n",
      "What's your age? 2\n",
      "What's your age? 6\n",
      "What's your age? 18\n",
      "Total cost of movie tickets is 25$\n"
     ]
    }
   ],
   "source": [
    "no_of_users=int(input(\"How many tickets? \"))\n",
    "total_cost=0\n",
    "for x in range(no_of_users):\n",
    "    age=int(input(\"What's your age? \"))\n",
    "    if age<3:\n",
    "        total_cost+=0\n",
    "    elif age>=3 and age<=12:\n",
    "        total_cost+=10\n",
    "    else:\n",
    "        total_cost+=15\n",
    "print(\"Total cost of movie tickets is \"+str(total_cost)+\"$\")"
   ]
  },
  {
   "cell_type": "code",
   "execution_count": 27,
   "metadata": {},
   "outputs": [
    {
     "name": "stdout",
     "output_type": "stream",
     "text": [
      "One of my favourite book is Let Us C\n"
     ]
    }
   ],
   "source": [
    "def favourite_book(fav_book):\n",
    "    print(\"One of my favourite book is \"+fav_book)\n",
    "\n",
    "\n",
    "favourite_book(\"Let Us C\")"
   ]
  },
  {
   "cell_type": "code",
   "execution_count": 33,
   "metadata": {},
   "outputs": [
    {
     "name": "stdout",
     "output_type": "stream",
     "text": [
      "Guess the number(Between 1 to 30):  6\n",
      "Hidden Number is greater than your guess!\n",
      "Guess the number(Between 1 to 30):  9\n",
      "Hidden Number is greater than your guess!\n",
      "Guess the number(Between 1 to 30):  19\n",
      "Hidden Number is smaller than your guess!\n",
      "Print the number is 16\n"
     ]
    }
   ],
   "source": [
    "from random import randint\n",
    "num=randint(1,30)\n",
    "for x in range(3):\n",
    "    guess=int(input(\"Guess the number(Between 1 to 30):  \"))\n",
    "    if guess==num:\n",
    "        print(\"Correct!\")\n",
    "        break\n",
    "    elif guess<num:\n",
    "        print(\"Hidden Number is greater than your guess!\")\n",
    "    elif guess>num:\n",
    "        print(\"Hidden Number is smaller than your guess!\")\n",
    "\n",
    "print(\"Print the number is \"+str(num))"
   ]
  }
 ],
 "metadata": {
  "kernelspec": {
   "display_name": "Python 3",
   "language": "python",
   "name": "python3"
  },
  "language_info": {
   "codemirror_mode": {
    "name": "ipython",
    "version": 3
   },
   "file_extension": ".py",
   "mimetype": "text/x-python",
   "name": "python",
   "nbconvert_exporter": "python",
   "pygments_lexer": "ipython3",
   "version": "3.7.4"
  }
 },
 "nbformat": 4,
 "nbformat_minor": 2
}
